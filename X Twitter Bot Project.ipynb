{
 "cells": [
  {
   "cell_type": "code",
   "execution_count": 5,
   "id": "c93bac08",
   "metadata": {},
   "outputs": [
    {
     "name": "stdout",
     "output_type": "stream",
     "text": [
      "X Twitter Bot Project\n"
     ]
    }
   ],
   "source": [
    "print(\"X Twitter Bot Project\")"
   ]
  },
  {
   "cell_type": "code",
   "execution_count": 2,
   "id": "90284bca",
   "metadata": {},
   "outputs": [],
   "source": [
    "from selenium import webdriver\n",
    "from selenium.webdriver.common.keys import Keys\n",
    "import time\n",
    "from selenium.webdriver.common.by import By"
   ]
  },
  {
   "cell_type": "code",
   "execution_count": 37,
   "id": "a028db3f",
   "metadata": {},
   "outputs": [],
   "source": [
    "driver = webdriver.Chrome()\n",
    "def Get_Internet_Speed(driver):\n",
    "    driver.get(\"https://fast.com\")\n",
    "    time.sleep(5)\n",
    "    #Go = driver.find_element(By.XPATH, value='')\n",
    "    #Go.click()\n",
    "    #message = driver.find_element(By.ID,\"your-speed-message\")\n",
    "    #print(message.text)\n",
    "    Get_speed = driver.find_element(By.ID,\"speed-value\")\n",
    "    #print(Get_speed.text)\n",
    "    Get_unit = driver.find_element(By.ID,\"speed-units\")\n",
    "    #Get_unit.text\n",
    "    return f\"Your Internet Speed Is {Get_speed.text} {Get_unit.text}\"\n",
    "#Get_Internet_Speed(driver)\n",
    "def Twitter_Post(Get_Internet_Speed):\n",
    "    driver.get(\"https://twitter.com/?lang=en\")\n",
    "    time.sleep(5)\n",
    "    Google_sign_up = driver.find_element(By.XPATH,'//*[@id=\"react-root\"]/div/div/div[2]/main/div/div/div[1]/div/div/div[3]/div[5]/a')\n",
    "    Google_sign_up.click()\n",
    "    time.sleep(5)\n",
    "    input_Email = driver.find_element(By.XPATH,'//*[@id=\"layers\"]/div[2]/div/div/div/div/div/div[2]/div[2]/div/div/div[2]/div[2]/div/div/div/div[5]/label/div/div[2]/div/input')\n",
    "    input_Email.send_keys(\"*************\")\n",
    "    time.sleep(5)\n",
    "    Next1 = driver.find_element(By.XPATH,'//*[@id=\"layers\"]/div[2]/div/div/div/div/div/div[2]/div[2]/div/div/div[2]/div[2]/div/div/div/div[6]')\n",
    "    Next1.click()\n",
    "    time.sleep(5)\n",
    "    input_Password = driver.find_element(By.XPATH,'//*[@id=\"layers\"]/div[2]/div/div/div/div/div/div[2]/div[2]/div/div/div[2]/div[2]/div[1]/div/div/div[2]/div/label/div/div[2]/div[1]/input')\n",
    "    input_Password.send_keys(\"**********\")\n",
    "    time.sleep(5)\n",
    "    Next2 = driver.find_element(By.XPATH,'//*[@id=\"layers\"]/div[2]/div/div/div/div/div/div[2]/div[2]/div/div/div[2]/div[2]/div[2]/div/div[1]/div/div/div')\n",
    "    Next2.click()\n",
    "    time.sleep(5)\n",
    "    write_Post = driver.find_element(By.XPATH,'//*[@id=\"react-root\"]/div/div/div[2]/main/div/div/div/div/div/div[3]/div/div[2]/div[1]/div/div/div/div[2]/div[1]/div/div/div/div/div/div/div/div/div/div/label/div[1]/div/div/div/div/div/div[2]/div')\n",
    "    write_Post.send_keys(f\"{Get_Internet_Speed}\")\n",
    "    time.sleep(5)\n",
    "    Post = driver.find_element(By.XPATH,'//*[@id=\"react-root\"]/div/div/div[2]/main/div/div/div/div/div/div[3]/div/div[2]/div[1]/div/div/div/div[2]/div[2]/div[2]/div/div/div/div[3]')\n",
    "    Post.click()\n",
    "Internet_Speed = Get_Internet_Speed(driver)\n",
    "time.sleep(8)\n",
    "Twitter_Post(Internet_Speed)"
   ]
  },
  {
   "cell_type": "code",
   "execution_count": null,
   "id": "b19acb13",
   "metadata": {},
   "outputs": [],
   "source": []
  },
  {
   "cell_type": "code",
   "execution_count": null,
   "id": "2cb6bf07",
   "metadata": {},
   "outputs": [],
   "source": []
  }
 ],
 "metadata": {
  "kernelspec": {
   "display_name": "Python 3 (ipykernel)",
   "language": "python",
   "name": "python3"
  },
  "language_info": {
   "codemirror_mode": {
    "name": "ipython",
    "version": 3
   },
   "file_extension": ".py",
   "mimetype": "text/x-python",
   "name": "python",
   "nbconvert_exporter": "python",
   "pygments_lexer": "ipython3",
   "version": "3.9.13"
  }
 },
 "nbformat": 4,
 "nbformat_minor": 5
}
