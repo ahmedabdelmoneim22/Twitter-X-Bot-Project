{
 "cells": [
  {
   "cell_type": "code",
   "execution_count": 1,
   "id": "4ccaebce",
   "metadata": {},
   "outputs": [
    {
     "name": "stdout",
     "output_type": "stream",
     "text": [
      "Twitter Bot Project\n"
     ]
    }
   ],
   "source": [
    "print(\"Twitter Bot Project\")"
   ]
  },
  {
   "cell_type": "code",
   "execution_count": 2,
   "id": "fce4a3fa",
   "metadata": {},
   "outputs": [
    {
     "ename": "SyntaxError",
     "evalue": "invalid syntax (1192419471.py, line 7)",
     "output_type": "error",
     "traceback": [
      "\u001b[1;36m  File \u001b[1;32m\"C:\\Users\\ahmed\\AppData\\Local\\Temp\\ipykernel_16728\\1192419471.py\"\u001b[1;36m, line \u001b[1;32m7\u001b[0m\n\u001b[1;33m    CHROME_DRIVER_PATH = YOUR CHROME DRIVER PATH\u001b[0m\n\u001b[1;37m                              ^\u001b[0m\n\u001b[1;31mSyntaxError\u001b[0m\u001b[1;31m:\u001b[0m invalid syntax\n"
     ]
    }
   ],
   "source": [
    "from selenium import webdriver\n",
    "from selenium.webdriver.common.keys import Keys\n",
    "import time\n",
    "\n",
    "PROMISED_DOWN = 150\n",
    "PROMISED_UP = 10\n",
    "CHROME_DRIVER_PATH = YOUR CHROME DRIVER PATH\n",
    "TWITTER_EMAIL = YOUR TWITTER EMAIL\n",
    "TWITTER_PASSWORD = YOUR TWITTER PASSWORD\n",
    "\n",
    "\n",
    "class InternetSpeedTwitterBot:\n",
    "    def __init__(self, driver_path):\n",
    "        self.driver = webdriver.Chrome(executable_path=driver_path)\n",
    "        self.up = 0\n",
    "        self.down = 0\n",
    "\n",
    "    def get_internet_speed(self):\n",
    "        self.driver.get(\"https://www.speedtest.net/\")\n",
    "        # accept_button = self.driver.find_element_by_id(\"_evidon-banner-acceptbutton\")\n",
    "        # accept_button.click()\n",
    "        # time.sleep(3)\n",
    "\n",
    "        go_button = self.driver.find_element_by_css_selector(\".start-button a\")\n",
    "        go_button.click()\n",
    "        time.sleep(60)\n",
    "        self.up = self.driver.find_element_by_xpath('//*[@id=\"container\"]/div/div[3]/div/div/div/div[2]/div[3]/div[3]/div/div[3]/div/div/div[2]/div[1]/div[2]/div/div[2]/span').text\n",
    "        self.down = self.driver.find_element_by_xpath('//*[@id=\"container\"]/div/div[3]/div/div/div/div[2]/div[3]/div[3]/div/div[3]/div/div/div[2]/div[1]/div[3]/div/div[2]/span').text\n",
    "\n",
    "    def tweet_at_provider(self):\n",
    "        self.driver.get(\"https://twitter.com/login\")\n",
    "        time.sleep(2)\n",
    "        email = self.driver.find_element_by_xpath('//*[@id=\"react-root\"]/div/div/div[2]/main/div/div/div[1]/form/div/div[1]/label/div/div[2]/div/input')\n",
    "        password = self.driver.find_element_by_xpath('//*[@id=\"react-root\"]/div/div/div[2]/main/div/div/div[1]/form/div/div[2]/label/div/div[2]/div/input')\n",
    "        email.send_keys(TWITTER_EMAIL)\n",
    "        password.send_keys(TWITTER_PASSWORD)\n",
    "        time.sleep(2)\n",
    "        password.send_keys(Keys.ENTER)\n",
    "        time.sleep(5)\n",
    "        tweet_compose = self.driver.find_element_by_xpath('//*[@id=\"react-root\"]/div/div/div[2]/main/div/div/div/div/div/div[2]/div/div[2]/div[1]/div/div/div/div[2]/div[1]/div/div/div/div/div/div/div/div/div/div[1]/div/div/div/div[2]/div/div/div/div')\n",
    "        tweet = f\"Hey Internet Provider, why is my internet speed {self.down}down/{self.up}up when I pay for {PROMISED_DOWN}down/{PROMISED_UP}up?\"\n",
    "        tweet_compose.send_keys(tweet)\n",
    "        time.sleep(3)\n",
    "        tweet_button = self.driver.find_element_by_xpath('//*[@id=\"react-root\"]/div/div/div[2]/main/div/div/div/div/div/div[2]/div/div[2]/div[1]/div/div/div/div[2]/div[4]/div/div/div[2]/div[3]')\n",
    "        tweet_button.click()\n",
    "        time.sleep(2)\n",
    "        self.driver.quit()\n",
    "\n",
    "\n",
    "bot = InternetSpeedTwitterBot(CHROME_DRIVER_PATH)\n",
    "bot.get_internet_speed()\n",
    "bot.tweet_at_provider()"
   ]
  },
  {
   "cell_type": "code",
   "execution_count": null,
   "id": "49272224",
   "metadata": {},
   "outputs": [],
   "source": []
  }
 ],
 "metadata": {
  "kernelspec": {
   "display_name": "Python 3 (ipykernel)",
   "language": "python",
   "name": "python3"
  },
  "language_info": {
   "codemirror_mode": {
    "name": "ipython",
    "version": 3
   },
   "file_extension": ".py",
   "mimetype": "text/x-python",
   "name": "python",
   "nbconvert_exporter": "python",
   "pygments_lexer": "ipython3",
   "version": "3.9.13"
  }
 },
 "nbformat": 4,
 "nbformat_minor": 5
}
